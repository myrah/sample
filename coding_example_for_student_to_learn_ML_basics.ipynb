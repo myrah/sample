{
  "cells": [
    {
      "cell_type": "markdown",
      "metadata": {
        "id": "view-in-github",
        "colab_type": "text"
      },
      "source": [
        "<a href=\"https://colab.research.google.com/github/myrah/sample/blob/main/coding_example_for_student_to_learn_ML_basics.ipynb\" target=\"_parent\"><img src=\"https://colab.research.google.com/assets/colab-badge.svg\" alt=\"Open In Colab\"/></a>"
      ]
    },
    {
      "cell_type": "markdown",
      "source": [
        "A basic coding example to introduce students to Machine Learning (ML) can involve a simple linear regression problem using Python and the `scikit-learn` library. This example demonstrates how a model learns a relationship from data and makes predictions.\n",
        "\n",
        "**Problem:** Predict a student's final exam score based on the number of hours they studied.\n",
        "\n",
        "**Code Example:**"
      ],
      "metadata": {
        "id": "mI3XMrjxopNE"
      }
    },
    {
      "cell_type": "code",
      "source": [
        "import numpy as np\n",
        "from sklearn.linear_model import LinearRegression\n",
        "from sklearn.model_selection import train_test_split\n",
        "\n",
        "# 1. Prepare the Data\n",
        "# Hours studied (features)\n",
        "hours_studied = np.array([2, 3, 4, 5, 6, 7, 8, 9, 10, 11]).reshape(-1, 1)\n",
        "# Final exam scores (target)\n",
        "exam_scores = np.array([55, 60, 65, 70, 75, 80, 85, 90, 95, 100])\n",
        "\n",
        "# 2. Split Data into Training and Testing Sets\n",
        "# This helps evaluate the model's performance on unseen data\n",
        "X_train, X_test, y_train, y_test = train_test_split(\n",
        "    hours_studied, exam_scores, test_size=0.2, random_state=42\n",
        ")\n",
        "\n",
        "# 3. Create and Train the Model\n",
        "# Initialize a Linear Regression model\n",
        "model = LinearRegression()\n",
        "# Train the model using the training data\n",
        "model.fit(X_train, y_train)\n",
        "\n",
        "# 4. Make Predictions\n",
        "# Predict scores for the test set\n",
        "predictions = model.predict(X_test)\n",
        "\n",
        "# 5. Evaluate the Model (Optional, but good practice)\n",
        "# You can compare 'predictions' with 'y_test' to see how well the model performed.\n",
        "# For simplicity in a basic example, this step can be briefly explained.\n",
        "print(\"Predicted scores for test set:\", predictions)\n",
        "print(\"Actual scores for test set:\", y_test)\n",
        "\n",
        "# 6. Use the Model for New Predictions\n",
        "# Predict the score for a student who studied 7.5 hours\n",
        "new_student_hours = np.array([[7.5]])\n",
        "predicted_score = model.predict(new_student_hours)\n",
        "print(f\"\\nPredicted score for a student who studied 7.5 hours: {predicted_score[0]:.2f}\")"
      ],
      "outputs": [
        {
          "output_type": "stream",
          "name": "stdout",
          "text": [
            "Predicted scores for test set: [95. 60.]\n",
            "Actual scores for test set: [95 60]\n",
            "\n",
            "Predicted score for a student who studied 7.5 hours: 82.50\n"
          ]
        }
      ],
      "execution_count": null,
      "metadata": {
        "colab": {
          "base_uri": "https://localhost:8080/"
        },
        "id": "_nbB8vmUopNH",
        "outputId": "ea782058-6bb7-4792-cde6-aa12c1d05033"
      }
    }
  ],
  "metadata": {
    "colab": {
      "provenance": [],
      "include_colab_link": true
    },
    "kernelspec": {
      "display_name": "Python 3",
      "name": "python3"
    }
  },
  "nbformat": 4,
  "nbformat_minor": 0
}